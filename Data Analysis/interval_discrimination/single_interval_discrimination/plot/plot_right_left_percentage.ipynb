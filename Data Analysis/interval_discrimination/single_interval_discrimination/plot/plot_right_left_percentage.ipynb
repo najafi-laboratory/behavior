{
 "cells": [
  {
   "cell_type": "code",
   "execution_count": 6,
   "id": "7665c95c",
   "metadata": {},
   "outputs": [],
   "source": [
    "#!/usr/bin/env python\n",
    "# coding: utf-8\n",
    "\n",
    "# In[ ]:\n",
    "\n",
    "\n",
    "import numpy as np\n",
    "import matplotlib.pyplot as plt\n",
    "from scipy.stats import sem\n",
    "\n",
    "\n",
    "def run(ax, subject_session_data):\n",
    "    max_sessions = 20\n",
    "    subject = subject_session_data['subject']\n",
    "    dates = subject_session_data['dates']\n",
    "    session_id = np.arange(len(dates)) + 1\n",
    "    jitter_flag = subject_session_data['jitter_flag']\n",
    "    choice = []\n",
    "\n",
    "    width = 0.5\n",
    "    \n",
    "    for i in range(len(dates)):\n",
    "        \n",
    "        decision = subject_session_data['decision'][i]\n",
    "        direction = decision[1 , :]\n",
    "        left = sum(trial_type == 0 for trial_type in direction)\n",
    "        choice.append(left/len(direction))\n",
    "        \n",
    "    ax.bar(\n",
    "        session_id, choice,\n",
    "        edgecolor='white',\n",
    "        width=width,\n",
    "        color='limegreen',\n",
    "        label='long ISI')\n",
    "    ax.tick_params(tick1On=False)\n",
    "    ax.spines['left'].set_visible(False)\n",
    "    ax.spines['right'].set_visible(False)\n",
    "    ax.spines['top'].set_visible(False)\n",
    "    #ax.yaxis.grid(True)\n",
    "    ax.set_xlabel('training session')\n",
    "    ax.set_ylabel('left choice')\n",
    "    ax.set_ylim(0 , 1)\n",
    "    ax.set_xticks(np.arange(len(dates))+1)\n",
    "    ax.set_xticklabels(dates, rotation='vertical')\n",
    "    ax.legend(loc='upper left', bbox_to_anchor=(1,1), ncol=1)\n",
    "    ax.set_title('left choice ISI percentage')\n",
    "\n"
   ]
  }
 ],
 "metadata": {
  "kernelspec": {
   "display_name": "Python 3 (ipykernel)",
   "language": "python",
   "name": "python3"
  },
  "language_info": {
   "codemirror_mode": {
    "name": "ipython",
    "version": 3
   },
   "file_extension": ".py",
   "mimetype": "text/x-python",
   "name": "python",
   "nbconvert_exporter": "python",
   "pygments_lexer": "ipython3",
   "version": "3.9.12"
  }
 },
 "nbformat": 4,
 "nbformat_minor": 5
}
